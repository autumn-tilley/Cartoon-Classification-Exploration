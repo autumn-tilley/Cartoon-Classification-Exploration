{
  "cells": [
    {
      "cell_type": "markdown",
      "metadata": {
        "id": "mtvt9ICj-Pzd"
      },
      "source": [
        "# **Homework 5: Convolutional Neural Networks**\n",
        "\n",
        "---"
      ]
    },
    {
      "cell_type": "markdown",
      "metadata": {
        "id": "8T5_FovLIMrj"
      },
      "source": [
        "## **Setup**"
      ]
    },
    {
      "attachments": {},
      "cell_type": "markdown",
      "metadata": {
        "id": "neOh6Aqppzoz"
      },
      "source": [
        "### **Change Colab's Runtime**\n",
        "\n",
        "Colab provides machine instances in the cloud. We will use Colab to speed up training times via its GPUs. \n",
        "By default, Colab instances do not use GPUs. So, we must first enable GPU support.\n",
        "\n",
        "1. Click the \"Runtime\" menu above\n",
        "2. Click \"Change runtime type\"\n",
        "3. Select \"GPU\" under \"Hardware accelerator\"\n",
        "4. Click Save"
      ]
    },
    {
      "attachments": {},
      "cell_type": "markdown",
      "metadata": {
        "id": "blqZxMe3kSU_"
      },
      "source": [
        "## **Linking Github and Google Colab**\n",
        "\n",
        "We're going to create a public/private key pair to allow Colab to access your Github.\n",
        "\n",
        "1. Make sure your latest code is pushed to github.com\n",
        "2. Run the cell below by clicking the 'Play' button to the top left.\n",
        "  *   Google Colab will start a machine instance in the cloud (top right of Colab under 'Share')\n",
        "  *   When the script asks for the location, click the flashing cursor and press enter\n",
        "  *   Leave the password field blank"
      ]
    },
    {
      "cell_type": "code",
      "execution_count": null,
      "metadata": {
        "id": "I1nTcPUxcz36"
      },
      "outputs": [],
      "source": [
        "!ssh-keygen -t rsa\n",
        "!ssh-keyscan -t rsa github.com >> ~/.ssh/known_hosts\n",
        "!clear\n",
        "!echo \"PUBLIC KEY: (for github.com)\"\n",
        "!cat /root/.ssh/id_rsa.pub"
      ]
    },
    {
      "attachments": {},
      "cell_type": "markdown",
      "metadata": {
        "id": "Y8XJeOF6ihxs"
      },
      "source": [
        "Follow these steps before proceeding:\n",
        "\n",
        "1. Go to https://github.com/settings/keys and login if necessary\n",
        "2. Click the green \"New SSH Key\" button\n",
        "3. Choose any title\n",
        "4. From the cell above in this Colab notebook, copy the public key. It looks like \"ssh-rsa xxxxx\", is very long, and should be the last line.\n",
        "5. Paste the key into the \"key\" text box and click \"Add SSH key\"\n",
        "6. Below, replace **[GITHUBUSERNAME]** with your GitHub username.\n",
        "7. Run the cell."
      ]
    },
    {
      "cell_type": "code",
      "execution_count": null,
      "metadata": {
        "id": "Ia2CRSzTObA3"
      },
      "outputs": [],
      "source": [
        "!git clone git@github.com:BrownCSCI1430/homework5_cnns-[GITHUBUSERNAME].git\n",
        "%cd homework5_cnns-[GITHUBUSERNAME]\n",
        "!git config --global user.email \"colab_bot@brown.edu\"\n",
        "!git config --global user.name \"Colab Bot\""
      ]
    },
    {
      "attachments": {},
      "cell_type": "markdown",
      "metadata": {
        "id": "yb1ead5oTA4j"
      },
      "source": [
        "Next, note the left-hand side bar.\n",
        "Find and click on the \"Files\" button on the left; it looks like a file divider. Now, you should be able to see your homework5_cnn folder."
      ]
    },
    {
      "attachments": {},
      "cell_type": "markdown",
      "metadata": {},
      "source": [
        "## **Editing Your Code**\n",
        "\n",
        "Your code on Colab must be pushed back to Github to reflect changes. Thus, we recommend changing your code and tuning parameters **either locally or on Colab, but not both simultaneously**. \n",
        "This will help avoid merge conflicts, which will happen when you make changes without ensuring that you have an up-to-date copy of the code.\n",
        "\n",
        "#### Workflow 1\n",
        "\n",
        "1. Make change locally in `vscode`\n",
        "2. git commit+push to Github in your terminal\n",
        "3. git pull from Github into the Colab copy of your project\n",
        "4. Execute code in Colab\n",
        "\n",
        "#### Workflow 2\n",
        "\n",
        "1. Make changes to your project files on Colab\n",
        "2. git commit+push to Github using Colab cells\n",
        "3. git pull from Github into your local directory on your laptop filesystem\n",
        "4. Edit in `vscode`"
      ]
    },
    {
      "attachments": {},
      "cell_type": "markdown",
      "metadata": {},
      "source": [
        "### **Workflow 1: Making changes locally**\n",
        "\n",
        "If you choose to change your files locally, **DO NOT repeatedly clone the repo**. Once you pushed from local terminal, you can update your code on colab using the following command. "
      ]
    },
    {
      "cell_type": "code",
      "execution_count": null,
      "metadata": {},
      "outputs": [],
      "source": [
        "!git pull"
      ]
    },
    {
      "attachments": {},
      "cell_type": "markdown",
      "metadata": {},
      "source": [
        "### **Workflow 2: Making changes on Colab**"
      ]
    },
    {
      "attachments": {},
      "cell_type": "markdown",
      "metadata": {},
      "source": [
        "If you choose to change your files on Colab, you can access them from the files section of the left sidebar. You may double click on the file you wish to edit and open it on colab. \n",
        "\n",
        "<img src=\"https://drive.google.com/uc?id=15fusCIFNpGiibzg5FWod4o8DlpjNHJMZ\" alt=\"colab folder\" width=\"80%\">"
      ]
    },
    {
      "attachments": {},
      "cell_type": "markdown",
      "metadata": {},
      "source": [
        "You can use the following commands to push your code changes to github from colab: "
      ]
    },
    {
      "cell_type": "code",
      "execution_count": null,
      "metadata": {},
      "outputs": [],
      "source": [
        "!git add code/*\n",
        "!git commit -m \"updating code from colab!\"\n",
        "!git push"
      ]
    },
    {
      "cell_type": "markdown",
      "metadata": {},
      "source": [
        "### **Installation**"
      ]
    },
    {
      "cell_type": "markdown",
      "metadata": {},
      "source": [
        "We can now install and import the necessary components."
      ]
    },
    {
      "cell_type": "code",
      "execution_count": null,
      "metadata": {
        "id": "O1jkvao_L68C"
      },
      "outputs": [],
      "source": [
        "%pip install lime"
      ]
    },
    {
      "cell_type": "code",
      "execution_count": null,
      "metadata": {
        "id": "85EGz_FZH434"
      },
      "outputs": [],
      "source": [
        "import tensorflow as tf\n",
        "from tensorflow.keras.layers import \\\n",
        "    Conv2D, MaxPool2D, Dropout, Flatten, Dense\n",
        "import matplotlib.pyplot as plt\n",
        "from skimage.io import imread"
      ]
    },
    {
      "cell_type": "markdown",
      "metadata": {
        "id": "mvfht1-w-35H"
      },
      "source": [
        "Next, we can download the weights for the VGG model."
      ]
    },
    {
      "cell_type": "code",
      "execution_count": null,
      "metadata": {
        "id": "k5rkcA4eDD9o"
      },
      "outputs": [],
      "source": [
        "!wget \"https://browncsci1430.github.io/webpage/hw5_cnns/vgg16_imagenet.h5\""
      ]
    },
    {
      "attachments": {},
      "cell_type": "markdown",
      "metadata": {
        "id": "2hASqy75_Sk7"
      },
      "source": [
        "## **Run your model**"
      ]
    },
    {
      "cell_type": "markdown",
      "metadata": {},
      "source": [
        "First, navigate to `code` folder. "
      ]
    },
    {
      "cell_type": "code",
      "execution_count": null,
      "metadata": {
        "id": "RF1J5KDdTMHX"
      },
      "outputs": [],
      "source": [
        "%cd code"
      ]
    },
    {
      "cell_type": "markdown",
      "metadata": {},
      "source": [
        "Use the provided `run.py` to train and test your models. The provided `argparse` will automatically log and checkpoint your models in newly created `logs/`, `checkpoints/your_model` and `checkpoints/vgg_model` directories. Run the following command to see all available command line arguments.  "
      ]
    },
    {
      "cell_type": "code",
      "execution_count": null,
      "metadata": {},
      "outputs": [],
      "source": [
        "!python run.py -h"
      ]
    },
    {
      "attachments": {},
      "cell_type": "markdown",
      "metadata": {},
      "source": [
        "### **Running the tasks**"
      ]
    },
    {
      "cell_type": "markdown",
      "metadata": {},
      "source": [
        "#### **Task 1 and 3**"
      ]
    },
    {
      "attachments": {},
      "cell_type": "markdown",
      "metadata": {},
      "source": [
        "The following section uses task 1 as an example. You should be able to run task 3 by replacing `task 1` with `task 3`, and `your_model` with `vgg_model` in the following section.\n",
        "\n",
        "Use the following command to run a task. "
      ]
    },
    {
      "cell_type": "code",
      "execution_count": null,
      "metadata": {
        "id": "aE8BEyNf_jzL"
      },
      "outputs": [],
      "source": [
        "!python run.py --task 1"
      ]
    },
    {
      "cell_type": "markdown",
      "metadata": {},
      "source": [
        "**Choosing a checkpoint**"
      ]
    },
    {
      "attachments": {},
      "cell_type": "markdown",
      "metadata": {},
      "source": [
        "You can load from a specific checkpoint if your current model architecture is the **same** as your model at that checkpoint. \n",
        "\n",
        "View your checkpoints timestamps and pick one from the list below. The last folder in the list contains your latest training results. "
      ]
    },
    {
      "cell_type": "code",
      "execution_count": null,
      "metadata": {},
      "outputs": [],
      "source": [
        "%ls checkpoints/your_model"
      ]
    },
    {
      "cell_type": "markdown",
      "metadata": {},
      "source": [
        "Replace [TIMESTAMP] below with the checkpoint timestamp you've chosen to get a list of model weights. "
      ]
    },
    {
      "cell_type": "code",
      "execution_count": null,
      "metadata": {},
      "outputs": [],
      "source": [
        "# TODO: replace [TIMESTAMP] with the timestamp you choose from the last step\n",
        "%ls checkpoints/your_model/[TIMESTAMP]"
      ]
    },
    {
      "cell_type": "markdown",
      "metadata": {},
      "source": [
        "Choose a model from the list above and replace [TIMESTAMP]/[MODEL_FILENAME] with your timestamp and checkpoint file. The last file contains your latest training weights. If you want, you can use the following command to continue training the model with specific weights. "
      ]
    },
    {
      "cell_type": "code",
      "execution_count": null,
      "metadata": {},
      "outputs": [],
      "source": [
        "# TODO: replace [TIMESTAMP][MODEL_FILENAME] with the a timestamp from above list\n",
        "!python run.py --task 1 --load-checkpoint checkpoints/your_model/<TIMESTAMP>/<MODEL_FILENAME>.h5"
      ]
    },
    {
      "cell_type": "markdown",
      "metadata": {},
      "source": [
        "**Testing your model**"
      ]
    },
    {
      "cell_type": "markdown",
      "metadata": {},
      "source": [
        "Run the following command to evaluate your model. Follow the \"choosing your model\" section to replace [TIMESTAMP][MODEL_FILENAME]. "
      ]
    },
    {
      "cell_type": "code",
      "execution_count": null,
      "metadata": {
        "id": "fUZHoSvUIeTt"
      },
      "outputs": [],
      "source": [
        "# TODO: replace [TIMESTAMP][MODEL_FILENAME] with the a checkpoint\n",
        "!python run.py --task 1 --load-checkpoint checkpoints/your_model/[TIMESTAMP]/[MODEL_FILENAME].h5 --evaluate"
      ]
    },
    {
      "cell_type": "markdown",
      "metadata": {},
      "source": [
        "#### **Task 2**"
      ]
    },
    {
      "cell_type": "markdown",
      "metadata": {
        "id": "IBOR9JZM2Tej"
      },
      "source": [
        "**View Tensorboard Logs**"
      ]
    },
    {
      "cell_type": "code",
      "execution_count": null,
      "metadata": {
        "id": "Wt1-9hiB2XZU"
      },
      "outputs": [],
      "source": [
        "%load_ext tensorboard\n",
        "%tensorboard --logdir logs"
      ]
    },
    {
      "cell_type": "markdown",
      "metadata": {},
      "source": [
        "**Lime Interpreter**"
      ]
    },
    {
      "cell_type": "markdown",
      "metadata": {
        "id": "vUDxmxcHstIM"
      },
      "source": [
        "Choose an image your model falsely classified and add it to the end of the command below (replace misclassified/your_model/Bedroom/Store_predicted.png with the path to your image)"
      ]
    },
    {
      "cell_type": "code",
      "execution_count": null,
      "metadata": {
        "id": "vk-mNdSXIrnF"
      },
      "outputs": [],
      "source": [
        "# TODO: replace the image path with the falsely classified image name\n",
        "# TODO: replace [TIMESTAMP][MODEL_FILENAME] with the a checkpoint\n",
        "!python run.py --task 1 --load-checkpoint checkpoints/your_model/[TIMESTAMP]/[MODEL_FILENAME].h5 --evaluate --lime-image misclassified/your_model/Bedroom/Store_predicted.png"
      ]
    },
    {
      "attachments": {},
      "cell_type": "markdown",
      "metadata": {},
      "source": [
        "**[Optional] Display Lime Interpreter Images**"
      ]
    },
    {
      "cell_type": "code",
      "execution_count": null,
      "metadata": {},
      "outputs": [],
      "source": [
        "# In order to see the images, replace <TIMESTAMP> with your own timestamp\n",
        "for i in range(4):\n",
        "  plot_img = imread('lime_explainer_images/[TIMESTAMP]/' + str(i) + '.png')\n",
        "  plt.imshow(plot_img)\n",
        "  plt.show()"
      ]
    }
  ],
  "metadata": {
    "accelerator": "GPU",
    "colab": {
      "collapsed_sections": [],
      "provenance": []
    },
    "gpuClass": "standard",
    "kernelspec": {
      "display_name": "Python 3.9.13 64-bit",
      "language": "python",
      "name": "python3"
    },
    "language_info": {
      "name": "python",
      "version": "3.9.13 (v3.9.13:6de2ca5339, May 17 2022, 11:23:25) \n[Clang 6.0 (clang-600.0.57)]"
    },
    "vscode": {
      "interpreter": {
        "hash": "aee8b7b246df8f9039afb4144a1f6fd8d2ca17a180786b69acc140d282b71a49"
      }
    }
  },
  "nbformat": 4,
  "nbformat_minor": 0
}
